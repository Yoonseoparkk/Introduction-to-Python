{
 "cells": [
  {
   "cell_type": "markdown",
   "id": "21eb5d54",
   "metadata": {},
   "source": [
    "## operator 모듈 itemgetter()"
   ]
  },
  {
   "cell_type": "code",
   "execution_count": 2,
   "id": "669ba73e",
   "metadata": {},
   "outputs": [
    {
     "name": "stdout",
     "output_type": "stream",
     "text": [
      "{'제목': '혼공', '가격': 18000}\n",
      "{'제목': '혼공', '가격': 18000}\n",
      "가장 저렴한 책 :  {'제목': '혼공', '가격': 18000}\n",
      "가장 비싼 책 :  {'제목': '혼자 공부하는 머신러닝 + 딥러닝', '가격': 26000}\n"
     ]
    }
   ],
   "source": [
    "from operator import itemgetter\n",
    "\n",
    "books = [{\n",
    "    \"제목\" : \"혼공\",\n",
    "    \"가격\" : 18000\n",
    "}, {\n",
    "    \"제목\" : \"혼자 공부하는 머신러닝 + 딥러닝\",\n",
    "    \"가격\" : 26000\n",
    "}\n",
    "]\n",
    "\n",
    "def 가격추출함수(book):\n",
    "    return book[\"가격\"]\n",
    "\n",
    "print(min(books, key=가격추출함수))    # 콜백함수\n",
    "# 단점 : '가격추출함수'가 무엇인지 알기 위해 함수를 찾아야 함\n",
    "print(min(books, key=lambda book: book[\"가격\"]))   # 람다함수\n",
    "# 단점 : 다른 사람이 코드를 읽기 어려움\n",
    "\n",
    "\n",
    "# operator 모듈의 itemgetter\n",
    "print(\"가장 저렴한 책 : \", min(books, key=itemgetter(\"가격\")))\n",
    "print(\"가장 비싼 책 : \", max(books, key=itemgetter(\"가격\")))"
   ]
  },
  {
   "cell_type": "markdown",
   "id": "f6b2c5f3",
   "metadata": {},
   "source": [
    "## os 모듈 os.listdir() & os.path.isdir()\n",
    "#### os.listdir() : 지정한 디렉토리 내 모든 파일과 디렉토리 리스트 리턴\n",
    "#### os.path.isdir() : true면 디렉토리, false면 파일\n"
   ]
  },
  {
   "cell_type": "code",
   "execution_count": 20,
   "id": "88acc134",
   "metadata": {},
   "outputs": [
    {
     "name": "stdout",
     "output_type": "stream",
     "text": [
      "os.listdir(): ['2024-05-14.ipynb', 'helpers']\n",
      "['2024-05-14']\n"
     ]
    }
   ],
   "source": [
    "import os   # 모듈 임포트\n",
    "\n",
    "# 현재 폴더의 파일 및 폴더를 출력\n",
    "내디렉토리목록들 = os.listdir(\".\")\n",
    "# 내디렉토리목록들 = os.listdir(\"..\\..\\.\")\n",
    "print(\"os.listdir():\", 내디렉토리목록들)\n",
    "\n",
    "# 현재 폴더의 파일 디렉토리 구분\n",
    "파일명만모은리스트 = []\n",
    "for 하나 in 내디렉토리목록들:\n",
    "    if os.path.isdir(하나):\n",
    "        pass\n",
    "        # print(\"폴더:\", 하나)\n",
    "    else:\n",
    "        # print(\"파일:\",하나)\n",
    "        파일명만모은리스트.append(하나.split(\".\")[0])\n",
    "\n",
    "print(파일명만모은리스트)"
   ]
  },
  {
   "cell_type": "code",
   "execution_count": 26,
   "id": "cfa41a9f",
   "metadata": {},
   "outputs": [
    {
     "name": "stdout",
     "output_type": "stream",
     "text": [
      "파일: 2024-05-14\n",
      "파일: debug\n"
     ]
    }
   ],
   "source": [
    "# 폴더라면 또 탐색하기\n",
    "import os\n",
    "\n",
    "# 폴더를 읽어 들이는 함수\n",
    "def read_folder(path):\n",
    "    # 폴더의 요소 읽어 들이기\n",
    "    output = os.listdir(path)\n",
    "\n",
    "    # 폴더의 요소 구분하기\n",
    "    for item in output:\n",
    "        if os.path.isdir(item) :\n",
    "            # 폴더라면 계속 읽어 들이기\n",
    "            read_folder(item)   # 재귀함수\n",
    "        else:\n",
    "            # 파일이라면 출력\n",
    "            print(\"파일:\", item.split(\".\")[0])\n",
    "\n",
    "\n",
    "read_folder(\".\")    # 만든 함수로 현재 디렉토리 탐색\n"
   ]
  },
  {
   "cell_type": "code",
   "execution_count": 28,
   "id": "11caf560",
   "metadata": {},
   "outputs": [
    {
     "name": "stdout",
     "output_type": "stream",
     "text": [
      "c:\\Users\\USER\\Desktop\\workplace01\\project05\n",
      "\n"
     ]
    }
   ],
   "source": [
    "import os\n",
    "\n",
    "# 현재 경로 조회. 작업 디렉토리 기준\n",
    "print(os.getcwd())  # get current working directory\n",
    "print(os.path.dirname(\".\")) # 작업 파일 기준"
   ]
  },
  {
   "cell_type": "code",
   "execution_count": null,
   "metadata": {},
   "outputs": [],
   "source": []
  },
  {
   "cell_type": "code",
   "execution_count": 39,
   "id": "ed65daef",
   "metadata": {},
   "outputs": [
    {
     "data": {
      "text/plain": [
       "('python', '.exe')"
      ]
     },
     "execution_count": 39,
     "metadata": {},
     "output_type": "execute_result"
    }
   ],
   "source": [
    "import os\n",
    "\n",
    "# 디렉토리 변경\n",
    "os.chdir(\"../\") # 부모 디렉토리로 이동\n",
    "\n",
    "# 현재 폴더의 디렉토리 및 파일 리스트 확인\n",
    "os.listdir()\n",
    "os.listdir(os.getcwd())\n",
    "\n",
    "# 파일명 제외하고 경로만 가져오기\n",
    "os.path.dirname(\"filepath\")\n",
    "\n",
    "# 파일/디렉토리 여부 확인\n",
    "os.path.isfile(\"inputpath\")\n",
    "os.path.isdir(\"inputpath\")\n",
    "\n",
    "# 디렉토리와 파일명 분리\n",
    "os.path.split(r\"C:\\Users\\USER\\Desktop\\workplace01\\project05\\2024-05-14.ipynb\")\n",
    "\n",
    "# 파일/디렉토리 존재 유무 확인\n",
    "os.path.exists(\"inputpath\")\n",
    "\n",
    "# 파일 크기 체크\n",
    "os.path.getsize(r\"C:\\Users\\USER\\Desktop\\workplace01\\project05\")\n",
    "\n",
    "# 파일 또는 경로를 합치는 방법\n",
    "os.path.join(r\"C:\\Users\\USER\\Desktop\\workplace01\\project05\", \"2024-05-14.ipynb\")\n",
    "\n",
    "# 파일명과 확장자를 분리하는 방법\n",
    "os.path.splitext(\"python.exe\")\n",
    "\n",
    "# 파일명을 변경하는 방법\n",
    "# file_list = os.listdir(r\"C:\\Users\\USER\\Desktop\\workplace01\\project05\")\n",
    "# os.renames(r\"C:\\Users\\USER\\Desktop\\workplace01\\project05\\2024-05-14.ipynb\",\n",
    "#            r\"C:\\Users\\USER\\Desktop\\workplace01\\project05\\2024-05-15.ipynb\")"
   ]
  },
  {
   "cell_type": "code",
   "execution_count": 2,
   "id": "e0289329",
   "metadata": {},
   "outputs": [
    {
     "name": "stdout",
     "output_type": "stream",
     "text": [
      "시작\n",
      "hello\n",
      "끝\n"
     ]
    }
   ],
   "source": [
    "# 함수 데코레이터의 생성\n",
    "def test(function):\n",
    "    def wrapper():\n",
    "        print(\"시작\")\n",
    "        function()\n",
    "        print(\"끝\")\n",
    "        return None\n",
    "    return wrapper\n",
    "\n",
    "# 데코레이터 붙여 함수 만듦\n",
    "@test\n",
    "def hello():\n",
    "    print(\"hello\")\n",
    "    return\n",
    "\n",
    "# 함수 호출\n",
    "hello()"
   ]
  },
  {
   "cell_type": "code",
   "execution_count": 5,
   "id": "4e90c3a5",
   "metadata": {},
   "outputs": [
    {
     "name": "stdout",
     "output_type": "stream",
     "text": [
      "인사가 시작되었습니다.\n",
      "두번째 데코레이터\n",
      "인사가 종료되었습니다.\n"
     ]
    }
   ],
   "source": [
    "from functools import wraps\n",
    "\n",
    "# 함수로 데코레이터 생성\n",
    "def test(function):\n",
    "    @wraps(function)\n",
    "    def wrapper(*arg, **kwargs):     # * 가변위치인자 list & ** 가변키워드인자 dictionary\n",
    "        print(\"인사가 시작되었습니다.\")\n",
    "        function(*arg, **kwargs)    \n",
    "        # function()    # 동일\n",
    "        print(\"인사가 종료되었습니다.\")\n",
    "    return wrapper\n",
    "\n",
    "@test\n",
    "def hello():\n",
    "    print(\"두번째 데코레이터\")\n",
    "\n",
    "hello()"
   ]
  }
 ],
 "metadata": {
  "kernelspec": {
   "display_name": "Python 3 (ipykernel)",
   "language": "python",
   "name": "python3"
  },
  "language_info": {
   "codemirror_mode": {
    "name": "ipython",
    "version": 3
   },
   "file_extension": ".py",
   "mimetype": "text/x-python",
   "name": "python",
   "nbconvert_exporter": "python",
   "pygments_lexer": "ipython3",
   "version": "3.11.7"
  }
 },
 "nbformat": 4,
 "nbformat_minor": 5
}
