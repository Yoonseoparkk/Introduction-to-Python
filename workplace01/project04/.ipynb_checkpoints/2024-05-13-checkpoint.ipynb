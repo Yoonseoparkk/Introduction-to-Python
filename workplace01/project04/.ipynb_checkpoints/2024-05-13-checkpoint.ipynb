{
 "cells": [
  {
   "cell_type": "code",
   "execution_count": null,
   "id": "ddc68186-669d-497b-9ac0-e0e8df6c6199",
   "metadata": {},
   "outputs": [],
   "source": [
    "# 단축키  a(above)  b(below)"
   ]
  },
  {
   "cell_type": "code",
   "execution_count": null,
   "id": "ebe6ff7a-1cca-4034-8432-f5f7fa80f938",
   "metadata": {},
   "outputs": [],
   "source": [
    "# try except 구문을 통한 예외 처리\n",
    "try:\n",
    "    number_input_a = int(input(\"정수 입력:\"))"
   ]
  },
  {
   "cell_type": "code",
   "execution_count": null,
   "id": "d8bc756a-2646-49b8-82fa-2f88c9112573",
   "metadata": {},
   "outputs": [],
   "source": []
  },
  {
   "cell_type": "code",
   "execution_count": null,
   "id": "1505281e-b35b-461e-b34f-03b7f82aa6a6",
   "metadata": {},
   "outputs": [],
   "source": []
  }
 ],
 "metadata": {
  "kernelspec": {
   "display_name": "Python 3 (ipykernel)",
   "language": "python",
   "name": "python3"
  },
  "language_info": {
   "codemirror_mode": {
    "name": "ipython",
    "version": 3
   },
   "file_extension": ".py",
   "mimetype": "text/x-python",
   "name": "python",
   "nbconvert_exporter": "python",
   "pygments_lexer": "ipython3",
   "version": "3.11.7"
  }
 },
 "nbformat": 4,
 "nbformat_minor": 5
}
